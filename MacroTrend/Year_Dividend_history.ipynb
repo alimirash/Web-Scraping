{
 "cells": [
  {
   "cell_type": "code",
   "execution_count": 1,
   "metadata": {},
   "outputs": [],
   "source": [
    "from selenium import webdriver\n",
    "from selenium.webdriver.common.by import By\n",
    "from selenium.webdriver.support.ui import WebDriverWait\n",
    "from selenium.webdriver.support import expected_conditions as EC\n",
    "from bs4 import BeautifulSoup\n",
    "import pandas as pd\n",
    "import time\n",
    "import os\n",
    "# import gc\n"
   ]
  },
  {
   "cell_type": "code",
   "execution_count": 2,
   "metadata": {},
   "outputs": [],
   "source": [
    "stock_data = pd.read_csv('TOP_100_Stock_Name.csv', encoding='latin-1' , header=None)\n",
    "\n",
    "type_of_data = 'dividend-yield-history'\n",
    "urls = []\n",
    "for i in range(1, len(stock_data)):\n",
    "    urls.append('https://www.macrotrends.net/stocks/charts/' + str(stock_data[1][i]) + '/' + str(stock_data[0][i]) + '/' + str(type_of_data))\n"
   ]
  },
  {
   "cell_type": "code",
   "execution_count": 3,
   "metadata": {},
   "outputs": [],
   "source": [
    "def parse_page(driver):\n",
    "    driver.execute_script(\"window.scrollTo(0 , 1000)\")\n",
    "    soup = BeautifulSoup(driver.page_source, 'html.parser')\n",
    "    # g tag with this XPath : //*[@id=\"chartdiv\"]/div/div/div[2]/div[3]/div/div/svg/g[12]/g\n",
    "    # Find all circle elements\n",
    "    circles = soup.find_all('circle')\n",
    "\n",
    "    # Extract and print the aria-label attributes\n",
    "    aria_labels = [circle['aria-label'] for circle in circles if 'aria-label' in circle.attrs]\n",
    "    print(aria_labels)\n",
    "    # find all circle and get aria-labels\n",
    "    # circles = transform.find_all('circle')\n",
    "    data = []\n",
    "    # for circle in circles:\n",
    "    #     data.append(circle['aria-label'])\n",
    "    #     print(circle['aria-label'])\n",
    "    return data\n",
    "    \n",
    "\n"
   ]
  },
  {
   "cell_type": "code",
   "execution_count": 4,
   "metadata": {},
   "outputs": [
    {
     "name": "stderr",
     "output_type": "stream",
     "text": [
      "<string>:2: SyntaxWarning: invalid escape sequence '\\{'\n",
      "<string>:32: SyntaxWarning: invalid escape sequence '\\{'\n",
      "<>:2: SyntaxWarning: invalid escape sequence '\\{'\n",
      "<>:32: SyntaxWarning: invalid escape sequence '\\{'\n",
      "<string>:2: SyntaxWarning: invalid escape sequence '\\{'\n",
      "<string>:32: SyntaxWarning: invalid escape sequence '\\{'\n",
      "<>:2: SyntaxWarning: invalid escape sequence '\\{'\n",
      "<>:32: SyntaxWarning: invalid escape sequence '\\{'\n",
      "C:\\Users\\Ali Mirash\\AppData\\Local\\Temp\\ipykernel_27740\\1317938867.py:2: SyntaxWarning: invalid escape sequence '\\{'\n",
      "  filename = f'{type_of_data}\\{stock_data[1][count + 1]}_{type_of_data}_Year_Dividend_history.csv'\n",
      "C:\\Users\\Ali Mirash\\AppData\\Local\\Temp\\ipykernel_27740\\1317938867.py:32: SyntaxWarning: invalid escape sequence '\\{'\n",
      "  df.to_csv(f'{type_of_data}\\{stock_data[1][count + 1]}_{type_of_data}_Year_Dividend_history.csv', index=False , header=None)\n"
     ]
    },
    {
     "name": "stdout",
     "output_type": "stream",
     "text": [
      "Linde_dividend-yield-history already exist.\n",
      "Click Accept All Button\n",
      "[]\n",
      "Save FCX On dividend-yield-history\n",
      "Error On SHW\n"
     ]
    }
   ],
   "source": [
    "for count, url in enumerate(urls):\n",
    "    filename = f'{type_of_data}\\{stock_data[1][count + 1]}_{type_of_data}_Year_Dividend_history.csv'\n",
    "    # Check if the file exists\n",
    "    if not os.path.exists(filename):\n",
    "        try: \n",
    "            time.sleep(2)\n",
    "            chrome_options = webdriver.ChromeOptions()\n",
    "            chrome_options.add_argument('--ignore-certificate-errors')\n",
    "            chrome_options.add_argument('--disable-web-security')\n",
    "            chrome_options.add_argument('--allow-running-insecure-content')\n",
    "            driver = webdriver.Chrome()\n",
    "            driver.implicitly_wait(4)\n",
    "            driver.get(url)\n",
    "            driver.maximize_window()\n",
    "            # Wait for the page to load\n",
    "            element = WebDriverWait(driver, 2).until(\n",
    "                EC.presence_of_element_located((By.ID, \"main_content\"))\n",
    "            )\n",
    "            \n",
    "            \n",
    "            try:\n",
    "                WebDriverWait(driver, 10).until(EC.element_to_be_clickable((By.CLASS_NAME, \"Button__StyledButton-a1qza5-0.jkvvVr\"))).click()\n",
    "                print('Click Accept All Button')\n",
    "            except:\n",
    "                print(\"No cookie consent pop-up found or failed to click 'Accept all'.\")\n",
    "        \n",
    "            # Get the page source\n",
    "            data = parse_page(driver)\n",
    "            # Create a DataFrame\n",
    "            df = pd.DataFrame(data)\n",
    "            # Save the DataFrame to a CSV file\n",
    "            df.to_csv(f'{type_of_data}\\{stock_data[1][count + 1]}_{type_of_data}_Year_Dividend_history.csv', index=False , header=None)\n",
    "            print(\"Save \" + str(stock_data[1][count + 1]) + f\" On {type_of_data}\")\n",
    "            # Close the browser\n",
    "            driver.quit()\n",
    "        except:\n",
    "            print(\"Error On \" + str(stock_data[1][count + 1]))\n",
    "            driver.quit()\n",
    "    else:\n",
    "        print(stock_data[0][count + 1] + f\"_{type_of_data}\" + \" already exist.\")"
   ]
  },
  {
   "cell_type": "code",
   "execution_count": null,
   "metadata": {},
   "outputs": [],
   "source": []
  }
 ],
 "metadata": {
  "kernelspec": {
   "display_name": "Python 3",
   "language": "python",
   "name": "python3"
  },
  "language_info": {
   "codemirror_mode": {
    "name": "ipython",
    "version": 3
   },
   "file_extension": ".py",
   "mimetype": "text/x-python",
   "name": "python",
   "nbconvert_exporter": "python",
   "pygments_lexer": "ipython3",
   "version": "3.12.3"
  }
 },
 "nbformat": 4,
 "nbformat_minor": 2
}
