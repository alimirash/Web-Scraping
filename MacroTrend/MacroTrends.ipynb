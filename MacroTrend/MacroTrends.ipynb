{
 "cells": [
  {
   "cell_type": "code",
   "execution_count": 14,
   "metadata": {},
   "outputs": [],
   "source": [
    "from selenium import webdriver\n",
    "from selenium.webdriver.common.by import By\n",
    "from selenium.webdriver.support.ui import WebDriverWait\n",
    "from selenium.webdriver.support import expected_conditions as EC\n",
    "from bs4 import BeautifulSoup\n",
    "import pandas as pd"
   ]
  },
  {
   "cell_type": "code",
   "execution_count": 15,
   "metadata": {},
   "outputs": [],
   "source": [
    "stock_data = pd.read_csv('MacroTrend_Stocks.csv', encoding='latin-1' , header=None)\n",
    "\n",
    "financial_ratios_URLs = []\n",
    "for i in range(1, len(stock_data)):\n",
    "    financial_ratios_URLs.append('https://www.macrotrends.net/stocks/charts/' + str(stock_data[1][i]) + '/' + str(stock_data[0][i]) + '/financial-ratios')\n"
   ]
  },
  {
   "cell_type": "code",
   "execution_count": 16,
   "metadata": {},
   "outputs": [],
   "source": [
    "\n",
    "# def parse_page():\n",
    "#     response = driver.page_source\n",
    "#     soup = BeautifulSoup(response, \"html.parser\")\n",
    "    \n",
    "#     header_main_div = soup.find('div' , {\"id\" : \"columntablejqxgrid\"})\n",
    "\n",
    "#     first_div = soup.find(\"div\", {\"id\": \"contenttablejqxgrid\"})\n",
    "#     divs = first_div.find_all(\"div\", {\"id\": lambda x: x and x.startswith(\"row\")})\n",
    "    \n",
    "#     page_data = []\n",
    "\n",
    "#     for div in header_main_div:\n",
    "#         first_row = div.find_all(\"div\" , {\"class\": \"jqx-grid-column-header jqx-widget-header\"})\n",
    "#         header_data = [cell.text.strip() for cell in first_row]\n",
    "#         page_data.append(header_data)\n",
    "\n",
    "#     for div in divs:\n",
    "#         table_row = div.find_all(\"div\", {\"class\": lambda x: x and x.startswith(\"jqx-grid-cell jqx-item\")})\n",
    "#         row_data = [cell.text.strip() for cell in table_row]\n",
    "#         page_data.append(row_data)\n",
    "        \n",
    "#     return page_data"
   ]
  },
  {
   "cell_type": "code",
   "execution_count": 17,
   "metadata": {},
   "outputs": [],
   "source": [
    "def parse_page():\n",
    "    # Assuming driver is already defined and points to the page to be scraped\n",
    "    response = driver.page_source\n",
    "    soup = BeautifulSoup(response, \"html.parser\")\n",
    "    \n",
    "    header_main_div = soup.find('div', {\"id\": \"columntablejqxgrid\"})\n",
    "    \n",
    "    first_div = soup.find(\"div\", {\"id\": \"contenttablejqxgrid\"})\n",
    "    divs = first_div.find_all(\"div\", {\"id\": lambda x: x and x.startswith(\"row\")})\n",
    "    \n",
    "    page_data = []\n",
    "\n",
    "    # Extract header data\n",
    "    header_data = []\n",
    "    header_divs = header_main_div.find_all(\"div\", {\"role\": \"columnheader\"})\n",
    "    for div in header_divs:\n",
    "        cell = div.find(\"span\", {\"style\": lambda x : x.startswith(\"text-overflow\")})\n",
    "        header_data.append(cell.text.strip())\n",
    "    page_data.append(header_data)\n",
    "\n",
    "    # Extract row data\n",
    "    for div in divs:\n",
    "        table_row = div.find_all(\"div\", {\"class\": lambda x: x and x.startswith(\"jqx-grid-cell jqx-item\")})\n",
    "        row_data = [cell.text.strip() for cell in table_row]\n",
    "        page_data.append(row_data)\n",
    "        \n",
    "    return page_data"
   ]
  },
  {
   "cell_type": "code",
   "execution_count": 18,
   "metadata": {},
   "outputs": [],
   "source": [
    "url = \"https://www.macrotrends.net/stocks/charts/MSFT/microsoft/financial-statements\"\n",
    "driver = webdriver.Chrome()\n",
    "driver.get(url)\n",
    "# Wait for the page to load\n",
    "element = WebDriverWait(driver, 10).until(\n",
    "    EC.presence_of_element_located((By.ID, \"main_content\"))\n",
    ")\n",
    "data = []\n",
    "# Get the page source\n",
    "data += parse_page()\n",
    "df = pd.DataFrame(data)\n",
    "df.to_csv('Financial Ratios/Financial_Ratios.csv', index=False , header=None)\n",
    "# Close the browser\n",
    "driver.quit()"
   ]
  },
  {
   "cell_type": "code",
   "execution_count": null,
   "metadata": {},
   "outputs": [],
   "source": [
    "for count , url in enumerate(financial_ratios_URLs):\n",
    "    try:\n",
    "        driver = webdriver.Chrome()\n",
    "        driver.get(url)\n",
    "        # Wait for the page to load\n",
    "        element = WebDriverWait(driver, 10).until(\n",
    "            EC.presence_of_element_located((By.ID, \"main_content\"))\n",
    "        )\n",
    "        data = []\n",
    "        # Get the page source\n",
    "        data += parse_page()\n",
    "        df = pd.DataFrame(data)\n",
    "        df.to_csv('Financial Ratios/' + str(stock_data[0][count]) + '_Financial_Ratios.csv', index=False , header=None)\n",
    "        # Close the browser\n",
    "        driver.quit()\n",
    "    except:\n",
    "        print(\"Error On \" + str(stock_data[0][count]))\n"
   ]
  },
  {
   "cell_type": "code",
   "execution_count": null,
   "metadata": {},
   "outputs": [],
   "source": []
  }
 ],
 "metadata": {
  "kernelspec": {
   "display_name": "Python 3",
   "language": "python",
   "name": "python3"
  },
  "language_info": {
   "codemirror_mode": {
    "name": "ipython",
    "version": 3
   },
   "file_extension": ".py",
   "mimetype": "text/x-python",
   "name": "python",
   "nbconvert_exporter": "python",
   "pygments_lexer": "ipython3",
   "version": "3.10.4"
  }
 },
 "nbformat": 4,
 "nbformat_minor": 2
}
