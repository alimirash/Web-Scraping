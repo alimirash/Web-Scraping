{
 "cells": [
  {
   "cell_type": "code",
   "execution_count": 2,
   "metadata": {},
   "outputs": [],
   "source": [
    "from selenium import webdriver\n",
    "from selenium.webdriver.common.by import By\n",
    "from selenium.webdriver.support.ui import WebDriverWait\n",
    "from selenium.webdriver.support import expected_conditions as EC\n",
    "from bs4 import BeautifulSoup\n",
    "import pandas as pd\n",
    "import time\n",
    "import os\n",
    "import gc"
   ]
  },
  {
   "cell_type": "code",
   "execution_count": 3,
   "metadata": {},
   "outputs": [],
   "source": [
    "stock_data = pd.read_csv('MacroTrend_Stocks.csv', encoding='latin-1' , header=None)\n",
    "\n",
    "financial_ratios_URLs = []\n",
    "for i in range(1, len(stock_data)):\n",
    "    financial_ratios_URLs.append('https://www.macrotrends.net/stocks/charts/' + str(stock_data[1][i]) + '/' + str(stock_data[0][i]) + '/financial-ratios')\n"
   ]
  },
  {
   "cell_type": "code",
   "execution_count": 4,
   "metadata": {},
   "outputs": [],
   "source": [
    "def parse_page(driver):\n",
    "    # Scroll to the bottom of the page to load all the data\n",
    "    driver.execute_script(\"window.scrollTo(0, document.body.scrollHeight)\")\n",
    "\n",
    "    response = driver.page_source\n",
    "    soup = BeautifulSoup(response, \"html.parser\")\n",
    "    \n",
    "    header_main_div = soup.find('div', {\"id\": \"columntablejqxgrid\"})\n",
    "    \n",
    "    first_div = soup.find(\"div\", {\"id\": \"contenttablejqxgrid\"})\n",
    "    divs = first_div.find_all(\"div\", {\"id\": lambda x: x and x.startswith(\"row\")})\n",
    "    \n",
    "    page_data = []\n",
    "\n",
    "    # Extract header data\n",
    "    header_data = []\n",
    "    header_divs = header_main_div.find_all(\"div\", {\"class\": \"jqx-grid-column-header jqx-widget-header\"})\n",
    "    for div in header_divs:\n",
    "        cell = div.find(\"span\", {\"style\": lambda x : x.startswith(\"text-overflow\")})\n",
    "        header_data.append(cell.text.strip())\n",
    "    page_data.append(header_data)\n",
    "\n",
    "    # Extract row data\n",
    "    for div in divs:\n",
    "        table_row = div.find_all(\"div\", {\"class\": lambda x: x and x.startswith(\"jqx-grid-cell jqx-item\")})\n",
    "        row_data = [cell.text.strip() for cell in table_row]\n",
    "        page_data.append(row_data)\n",
    "        \n",
    "    return page_data"
   ]
  },
  {
   "cell_type": "code",
   "execution_count": null,
   "metadata": {},
   "outputs": [],
   "source": [
    "for count, url in enumerate(financial_ratios_URLs):\n",
    "    filename = f'Financial Ratios/{stock_data[0][count + 1]}_Financial_Ratios.csv'\n",
    "    # Check if the file exists\n",
    "    if not os.path.exists(filename):\n",
    "        try: \n",
    "            time.sleep(2)\n",
    "            driver = webdriver.Chrome()\n",
    "            driver.implicitly_wait(10)\n",
    "            driver.get(url)\n",
    "            driver.maximize_window()\n",
    "            # Wait for the page to load\n",
    "            element = WebDriverWait(driver, 10).until(\n",
    "                EC.presence_of_element_located((By.ID, \"main_content\"))\n",
    "            )\n",
    "            \n",
    "            data = []\n",
    "            try:\n",
    "                WebDriverWait(driver, 10).until(EC.element_to_be_clickable((By.CLASS_NAME, \"Button__StyledButton-a1qza5-0.jkvvVr\"))).click()\n",
    "            except:\n",
    "                print(\"No cookie consent pop-up found or failed to click 'Accept all'.\")\n",
    "        \n",
    "            # Get the page source\n",
    "            data += parse_page(driver)\n",
    "            df = pd.DataFrame(data)\n",
    "            df.to_csv(f'Financial Ratios\\{stock_data[0][count + 1]}_Financial_Ratios.csv', index=False , header=None)\n",
    "            print(\"Save \" + str(stock_data[0][count + 1]) + \" On Financial Ratios\")\n",
    "            # Close the browser\n",
    "            driver.quit()\n",
    "        except:\n",
    "            print(\"Error On \" + str(stock_data[0][count + 1]))\n",
    "    else:\n",
    "        print(stock_data[0][count + 1] + \"_Financial_Ratios\" + \" already exist.\")\n",
    "\n",
    "    "
   ]
  },
  {
   "cell_type": "code",
   "execution_count": null,
   "metadata": {},
   "outputs": [],
   "source": [
    "\n",
    "# url = 'https://www.macrotrends.net/stocks/charts/AAPL/apple/financial-ratios'\n",
    "# driver = webdriver.Chrome()\n",
    "# driver.implicitly_wait(10)\n",
    "# driver.get(url)\n",
    "# driver.maximize_window()\n",
    "# # Wait for the page to load\n",
    "# element = WebDriverWait(driver, 10).until(\n",
    "#     EC.presence_of_element_located((By.ID, \"main_content\"))\n",
    "# )\n",
    "\n",
    "# data = []\n",
    "# try:\n",
    "#     WebDriverWait(driver, 10).until(EC.element_to_be_clickable((By.CLASS_NAME, \"Button__StyledButton-a1qza5-0.jkvvVr\"))).click()\n",
    "# except:\n",
    "#     print(\"No cookie consent pop-up found or failed to click 'Accept all'.\")\n",
    "\n",
    "# # Get the page source\n",
    "# data += parse_page(driver)\n",
    "# df = pd.DataFrame(data)\n",
    "# df.to_csv(f'Financial Ratios\\Financial_Ratios.csv', index=False , header=None)\n",
    "# # Close the browser\n",
    "# driver.quit()"
   ]
  },
  {
   "cell_type": "code",
   "execution_count": null,
   "metadata": {},
   "outputs": [],
   "source": [
    "left_table = '//*[@id=\"style-1\"]/div[1]/table'\n",
    "right_table = '//*[@id=\"style-1\"]/div[2]/table'\n"
   ]
  }
 ],
 "metadata": {
  "kernelspec": {
   "display_name": "Python 3",
   "language": "python",
   "name": "python3"
  },
  "language_info": {
   "codemirror_mode": {
    "name": "ipython",
    "version": 3
   },
   "file_extension": ".py",
   "mimetype": "text/x-python",
   "name": "python",
   "nbconvert_exporter": "python",
   "pygments_lexer": "ipython3",
   "version": "3.12.3"
  }
 },
 "nbformat": 4,
 "nbformat_minor": 2
}
