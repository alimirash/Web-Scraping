{
 "cells": [
  {
   "cell_type": "code",
   "execution_count": 1,
   "metadata": {},
   "outputs": [],
   "source": [
    "from selenium import webdriver\n",
    "from selenium.webdriver.common.by import By\n",
    "from selenium.webdriver.support.ui import WebDriverWait\n",
    "from selenium.webdriver.support import expected_conditions as EC\n",
    "from bs4 import BeautifulSoup\n",
    "import pandas as pd\n",
    "import time\n",
    "import os\n",
    "import gc\n"
   ]
  },
  {
   "cell_type": "code",
   "execution_count": 2,
   "metadata": {},
   "outputs": [],
   "source": [
    "stock_data = pd.read_csv('TOP_100_Stock_Name.csv', encoding='latin-1' , header=None)\n",
    "\n",
    "type_of_data = 'revenue'\n",
    "urls = []\n",
    "for i in range(1, len(stock_data)):\n",
    "    urls.append('https://www.macrotrends.net/stocks/charts/' + str(stock_data[1][i]) + '/' + str(stock_data[0][i]) + '/' + str(type_of_data))\n"
   ]
  },
  {
   "cell_type": "code",
   "execution_count": 3,
   "metadata": {},
   "outputs": [],
   "source": [
    "def parse_page(driver):\n",
    "    left_table = []\n",
    "    right_table = []\n",
    "\n",
    "    driver.execute_script(\"window.scrollTo(0 , 1500)\")\n",
    "    soup = BeautifulSoup(driver.page_source, 'html.parser')\n",
    "\n",
    "    # get the thead tag in table with Xpath : //*[@id=\"style-1\"]/div[1]/table\n",
    "    thead = soup.find_all('thead')\n",
    "    tbody = soup.find_all('tbody')\n",
    "    left_thead = thead[0]\n",
    "    # get tr in thead tag and th in tr tag and save text in list\n",
    "    left_thead_th = left_thead.find_all('th') \n",
    "    left_thead_th_text = [th.text for th in left_thead_th]\n",
    "    left_table.append(left_thead_th_text)\n",
    "\n",
    "    left_tbody = tbody[0]\n",
    "    left_tbody_tr = left_tbody.find_all('tr')\n",
    "    for tr in left_tbody_tr:\n",
    "        left_tbody_td = tr.find_all('td')\n",
    "        left_tbody_td_text = [td.text for td in left_tbody_td]\n",
    "        left_table.append(left_tbody_td_text)\n",
    "    \n",
    "    # get the thead tag in table with Xpath : //*[@id=\"style-1\"]/div[2]/table\n",
    "    right_thead = thead[1]\n",
    "    # get tr in thead tag and th in tr tag and save text in list\n",
    "    right_thead_th = right_thead.find_all('th')\n",
    "    right_thead_th_text = [th.text for th in right_thead_th]\n",
    "    right_table.append(right_thead_th_text)\n",
    "    \n",
    "    right_tbody = tbody[1]\n",
    "    right_tbody_tr = right_tbody.find_all('tr')\n",
    "    for tr in right_tbody_tr:\n",
    "        right_tbody_td = tr.find_all('td')\n",
    "        right_tbody_td_text = [td.text for td in right_tbody_td]\n",
    "        right_table.append(right_tbody_td_text)\n",
    "\n",
    "    return left_table , right_table\n",
    "\n"
   ]
  },
  {
   "cell_type": "code",
   "execution_count": null,
   "metadata": {},
   "outputs": [],
   "source": [
    "for count, url in enumerate(urls):\n",
    "    filename = f'{type_of_data}/{stock_data[1][count + 1]}_{type_of_data}.csv'\n",
    "    # Check if the file exists\n",
    "    if not os.path.exists(filename):\n",
    "        try: \n",
    "            time.sleep(2)\n",
    "            chrome_options = webdriver.ChromeOptions()\n",
    "            chrome_options.add_argument('--ignore-certificate-errors')\n",
    "            chrome_options.add_argument('--disable-web-security')\n",
    "            chrome_options.add_argument('--allow-running-insecure-content')\n",
    "            driver = webdriver.Chrome()\n",
    "            driver.implicitly_wait(10)\n",
    "            driver.get(url)\n",
    "            driver.maximize_window()\n",
    "            # Wait for the page to load\n",
    "            element = WebDriverWait(driver, 10).until(\n",
    "                EC.presence_of_element_located((By.ID, \"main_content\"))\n",
    "            )\n",
    "            \n",
    "            \n",
    "            try:\n",
    "                WebDriverWait(driver, 10).until(EC.element_to_be_clickable((By.CLASS_NAME, \"Button__StyledButton-a1qza5-0 jkvvVr\"))).click()\n",
    "            except:\n",
    "                print(\"No cookie consent pop-up found or failed to click 'Accept all'.\")\n",
    "        \n",
    "            # Get the page source\n",
    "            left_table , right_table = parse_page(driver)\n",
    "            # Create a DataFrame\n",
    "            left_df = pd.DataFrame(left_table)\n",
    "            right_df = pd.DataFrame(right_table)\n",
    "            # Save the DataFrame to a CSV file\n",
    "            left_df.to_csv(f'{type_of_data}\\{stock_data[1][count + 1]}_{type_of_data}_Annual_Revenue.csv', index=False , header=None)\n",
    "            right_df.to_csv(f'{type_of_data}\\{stock_data[1][count + 1]}_{type_of_data}_ Quarterly_Revenue.csv', index=False , header=None)\n",
    "            print(\"Save \" + str(stock_data[1][count + 1]) + f\" On {type_of_data}\")\n",
    "            # Close the browser\n",
    "            driver.quit()\n",
    "        except:\n",
    "            print(\"Error On \" + str(stock_data[1][count + 1]))\n",
    "    else:\n",
    "        print(stock_data[0][count + 1] + f\"_{type_of_data}\" + \" already exist.\")"
   ]
  },
  {
   "cell_type": "code",
   "execution_count": null,
   "metadata": {},
   "outputs": [],
   "source": []
  }
 ],
 "metadata": {
  "kernelspec": {
   "display_name": "Python 3",
   "language": "python",
   "name": "python3"
  },
  "language_info": {
   "codemirror_mode": {
    "name": "ipython",
    "version": 3
   },
   "file_extension": ".py",
   "mimetype": "text/x-python",
   "name": "python",
   "nbconvert_exporter": "python",
   "pygments_lexer": "ipython3",
   "version": "3.12.3"
  }
 },
 "nbformat": 4,
 "nbformat_minor": 2
}
