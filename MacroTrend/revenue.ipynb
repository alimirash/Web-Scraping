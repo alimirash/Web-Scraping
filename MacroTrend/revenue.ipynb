{
 "cells": [
  {
   "cell_type": "code",
<<<<<<< HEAD
   "execution_count": 1,
=======
   "execution_count": 4,
>>>>>>> adcfd4375e5620bf398b9508516911840edff058
   "metadata": {},
   "outputs": [
    {
     "name": "stdout",
     "output_type": "stream",
     "text": [
      "Saved htmls\\WMT_current-ratio.html\n",
      "Saved htmls\\WMT_roe.html\n",
      "Saved htmls\\WMT_price-book.html\n",
      "Retrying https://www.macrotrends.net/stocks/charts/WMT/Walmart Inc./debt-equity-ratio due to bot detection...\n",
      "Saved htmls\\WMT_debt-equity-ratio.html\n",
      "Saved htmls\\WMT_operating-margin.html\n",
      "Saved htmls\\WMT_basic-shares-outstanding.html\n",
      "Saved htmls\\WMT_cash-flow-from-operating-activities.html\n",
      "Retrying https://www.macrotrends.net/stocks/charts/WMT/Walmart Inc./receivables-total due to bot detection...\n",
      "Saved htmls\\WMT_receivables-total.html\n",
      "Saved htmls\\WMT_inventory.html\n",
      "Retrying https://www.macrotrends.net/stocks/charts/WMT/Walmart Inc./net-property-plant-equipment due to bot detection...\n",
      "Saved htmls\\WMT_net-property-plant-equipment.html\n",
      "Saved htmls\\WMT_free-cash-flow-per-share.html\n",
      "Retrying https://www.macrotrends.net/stocks/charts/WMT/Walmart Inc./accounts-payable due to bot detection...\n"
     ]
    }
   ],
   "source": [
    "from bs4 import BeautifulSoup\n",
    "import pandas as pd\n",
    "import time\n",
    "import os\n",
<<<<<<< HEAD
    "import requests\n",
    "import random\n",
    "\n",
    "# Load stock data\n",
    "stock_data = pd.read_csv('TOP_100_Stock_Name.csv', encoding='latin-1', header=None)\n",
    "base_url = \"https://www.macrotrends.net/stocks/charts/\"\n",
    "parameters = [\"current-ratio\", \"roe\", \"price-book\", \"debt-equity-ratio\", \"operating-margin\", \n",
    "              \"basic-shares-outstanding\", \"cash-flow-from-operating-activities\", \"receivables-total\", \n",
    "              \"inventory\", \"net-property-plant-equipment\", \"free-cash-flow-per-share\", \"accounts-payable\", \n",
    "              \"book-value-per-share\"]\n",
    "\n",
    "urls = []\n",
    "for idx in range(1, len(stock_data)):\n",
    "    for par in parameters:\n",
    "        urls.append(f\"{base_url}{stock_data[1][idx]}/{stock_data[0][idx]}/{par}\")\n",
=======
    "import gc\n"
   ]
  },
  {
   "cell_type": "code",
   "execution_count": 5,
   "metadata": {},
   "outputs": [],
   "source": [
    "stock_data = pd.read_csv('TOP_100_Stock_Name.csv', encoding='latin-1' , header=None)\n",
    "base_url = \"https://www.macrotrends.net/stocks/charts/\"\n",
    "Parameters = [\"current-ratio\" , \"roe\" , \"price-book\" , \"debt-equity-ratio\" , \"operating-margin\" , \"basic-shares-outstanding\" ,\n",
    "            \"cash-flow-from-operating-activities\" , \"receivables-total\" , \"inventory\" , \"net-property-plant-equipment\" ,\n",
    "            \"free-cash-flow-per-share\" , \"accounts-payable\" , \"book-value-per-share\"]\n",
    "\n",
    "urls = []\n",
    "for idx in range(1, len(stock_data)):\n",
    "    for par in Parameters:\n",
    "        urls.append('https://www.macrotrends.net/stocks/charts/' + str(stock_data[1][idx]) + '/' + str(stock_data[0][idx]) + '/' + str(par))"
   ]
  },
  {
   "cell_type": "code",
   "execution_count": 6,
   "metadata": {},
   "outputs": [],
   "source": [
    "def parse_page(driver):\n",
    "    left_table = []\n",
    "    right_table = []\n",
>>>>>>> adcfd4375e5620bf398b9508516911840edff058
    "\n",
    "# Setup a requests session\n",
    "session = requests.Session()\n",
    "session.headers.update({\n",
    "    'User-Agent': 'Mozilla/5.0 (Windows NT 10.0; Win64; x64) AppleWebKit/537.36 (KHTML, like Gecko) Chrome/103.0.0.0 Safari/537.36',\n",
    "    'Accept-Language': 'en-US,en;q=0.9',\n",
    "    'Accept': 'text/html,application/xhtml+xml,application/xml;q=0.9,image/webp,image/apng,*/*;q=0.8',\n",
    "    'Referer': 'https://www.google.com/',\n",
    "    'Connection': 'keep-alive',\n",
    "})\n",
    "\n",
    "def fetch_and_save(url, retries=5):\n",
    "    type_of_data = url.split('/')[-1]\n",
    "    stock_symbol = url.split('/')[-2]\n",
    "    stock_ticker = url.split('/')[-3]\n",
    "    file_path = f'htmls\\\\{stock_ticker}_{type_of_data}.html'\n",
    "    \n",
<<<<<<< HEAD
    "    if not os.path.exists(file_path):\n",
    "        for attempt in range(retries):\n",
=======
    "    # get the thead tag in table with Xpath : //*[@id=\"style-1\"]/div[2]/table\n",
    "    right_thead = thead[1]\n",
    "    # get tr in thead tag and th in tr tag and save text in list\n",
    "    right_thead_th = right_thead.find_all('th')\n",
    "    right_thead_th_text = [th.text for th in right_thead_th]\n",
    "    right_table.append(right_thead_th_text)\n",
    "    \n",
    "    right_tbody = tbody[1]\n",
    "    right_tbody_tr = right_tbody.find_all('tr')\n",
    "    for tr in right_tbody_tr:\n",
    "        right_tbody_td = tr.find_all('td')\n",
    "        right_tbody_td_text = [td.text for td in right_tbody_td]\n",
    "        right_table.append(right_tbody_td_text)\n",
    "\n",
    "    return left_table , right_table\n",
    "\n"
   ]
  },
  {
   "cell_type": "code",
   "execution_count": null,
   "metadata": {},
   "outputs": [],
   "source": [
    "for count, url in enumerate(urls):\n",
    "    type_of_data = url.split('/')[-1]\n",
    "    filename = f'{type_of_data}\\{stock_data[1][count + 1]}_{type_of_data}_Annual_Revenue.csv'\n",
    "    # Check if the file exists\n",
    "    if not os.path.exists(filename):\n",
    "        try: \n",
    "            time.sleep(2)\n",
    "            chrome_options = webdriver.ChromeOptions()\n",
    "            chrome_options.add_argument('--ignore-certificate-errors')\n",
    "            chrome_options.add_argument('--disable-web-security')\n",
    "            chrome_options.add_argument('--allow-running-insecure-content')\n",
    "            driver = webdriver.Chrome()\n",
    "            driver.implicitly_wait(10)\n",
    "            driver.get(url)\n",
    "            driver.maximize_window()\n",
    "            # Wait for the page to load\n",
    "            element = WebDriverWait(driver, 10).until(\n",
    "                EC.presence_of_element_located((By.ID, \"main_content\"))\n",
    "            )\n",
    "            \n",
    "            \n",
>>>>>>> adcfd4375e5620bf398b9508516911840edff058
    "            try:\n",
    "                # Random sleep to avoid detection\n",
    "                time.sleep(random.randint(5, 15))\n",
    "                \n",
    "                response = session.get(url)\n",
    "                if \"Just a moment...\" in response.text or response.status_code != 200:\n",
    "                    print(f\"Retrying {url} due to bot detection...\")\n",
    "                    time.sleep(random.randint(20, 40))  # Longer wait before retrying\n",
    "                    continue\n",
    "                \n",
    "                # Save the content if it's valid\n",
    "                with open(file_path, mode='w') as file:\n",
    "                    file.write(response.text)\n",
    "                    print(f'Saved {file_path}')\n",
    "                break\n",
    "            except Exception as e:\n",
    "                print(f\"Error fetching {url}: {e}\")\n",
    "                time.sleep(random.randint(20, 40))  # Wait before retrying\n",
    "    else:\n",
    "        print(f'{file_path} already exists.')\n",
    "\n",
    "# Fetch and save all URLs\n",
    "for url in urls:\n",
    "    fetch_and_save(url)\n"
   ]
  }
 ],
 "metadata": {
  "kernelspec": {
   "display_name": "Python 3",
   "language": "python",
   "name": "python3"
  },
  "language_info": {
   "codemirror_mode": {
    "name": "ipython",
    "version": 3
   },
   "file_extension": ".py",
   "mimetype": "text/x-python",
   "name": "python",
   "nbconvert_exporter": "python",
   "pygments_lexer": "ipython3",
   "version": "3.12.4"
  }
 },
 "nbformat": 4,
 "nbformat_minor": 2
}
